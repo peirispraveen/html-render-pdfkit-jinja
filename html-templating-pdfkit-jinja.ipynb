{
 "cells": [
  {
   "cell_type": "markdown",
   "source": [
    "### Install jupyter, jinja2, pdfkit"
   ],
   "metadata": {
    "collapsed": false
   },
   "id": "117d2162178bc42"
  },
  {
   "cell_type": "code",
   "outputs": [
    {
     "name": "stdout",
     "output_type": "stream",
     "text": [
      "Requirement already satisfied: jinja2 in d:\\engenuityai\\testprojects\\html_templating_pdfkit_and_jinja\\.venv\\lib\\site-packages (3.1.4)\n",
      "Collecting pdfkit\n",
      "  Obtaining dependency information for pdfkit from https://files.pythonhosted.org/packages/64/1b/26c080096dd93936dccfd32c682bed3d5630a84aae9d493ff68afb2ae0fb/pdfkit-1.0.0-py3-none-any.whl.metadata\n",
      "  Using cached pdfkit-1.0.0-py3-none-any.whl.metadata (9.3 kB)\n",
      "Requirement already satisfied: MarkupSafe>=2.0 in d:\\engenuityai\\testprojects\\html_templating_pdfkit_and_jinja\\.venv\\lib\\site-packages (from jinja2) (2.1.5)\n",
      "Using cached pdfkit-1.0.0-py3-none-any.whl (12 kB)\n",
      "Installing collected packages: pdfkit\n",
      "Successfully installed pdfkit-1.0.0\n"
     ]
    },
    {
     "name": "stderr",
     "output_type": "stream",
     "text": [
      "\n",
      "[notice] A new release of pip is available: 23.2.1 -> 24.2\n",
      "[notice] To update, run: python.exe -m pip install --upgrade pip\n"
     ]
    }
   ],
   "source": [
    "!pip install jinja2 pdfkit"
   ],
   "metadata": {
    "collapsed": false,
    "ExecuteTime": {
     "end_time": "2024-10-07T07:09:12.618793Z",
     "start_time": "2024-10-07T07:09:10.107819Z"
    }
   },
   "id": "ed1adb94eb5338f2",
   "execution_count": 1
  },
  {
   "cell_type": "markdown",
   "source": [
    "# HTML"
   ],
   "metadata": {
    "collapsed": false
   },
   "id": "ebbba1c67a7b4d1b"
  },
  {
   "cell_type": "code",
   "outputs": [],
   "source": [
    "# 1. Set up multiple variables to store the titles, text within the report\n",
    "title = \"Control Union Report\"\n",
    "message = {\n",
    "        \"greeting\": \"Hi Jane\",\n",
    "        \"content_1\": \"Your web redesign is finished and we're tracking results through this web analytics report. Early signs are good and everything seems to be on pace.\",\n",
    "        \"content_2\": \"We're also going to be launching a few new landing pages next month. These will be used for SEO and PPC purposes.\"\n",
    "}\n",
    "images = {\n",
    "        \"image1\": \"https://storage.googleapis.com/corpeng-pulse-assets/uploads/2022/11/2image5-1536x783.jpg\",\n",
    "        \"image2\": \"https://storage.googleapis.com/corpeng-pulse-assets/uploads/2022/11/2image2-1536x719.jpg\"\n",
    "}\n",
    "stats = {\n",
    "        \"sessions\": \"10,487\",\n",
    "        \"avg_session_duration\": \"00:00:26\",\n",
    "        \"new_sessions\": \"13.09%\",\n",
    "        \"bounce_rate\": \"35.00%\",\n",
    "        \"goal_completions\": \"3,145\",\n",
    "        \"pages_per_session\": \"3.49\"\n",
    "}\n",
    "\n",
    "\n",
    "# 2. Combine them together using a long f-string\n",
    "html = f'''\n",
    "    <html>\n",
    "        <head>\n",
    "            <title>{{ title }}</title>\n",
    "        </head>\n",
    "        <body>\n",
    "            <div class=\"container\">\n",
    "                <header>\n",
    "                    <h1>{{ title }}</h1>\n",
    "                </header>\n",
    "        \n",
    "                <section class=\"message\">\n",
    "                    <p>{{ message.greeting }}</p>\n",
    "                    <p>{{ message.content_1 }}</p>\n",
    "                </section>\n",
    "        \n",
    "                <section class=\"images\">\n",
    "                    <div class=\"image-box\">\n",
    "                        <img src=\"{{ images.image1 }}\" alt=\"Image 1 Placeholder\">\n",
    "                    </div>\n",
    "                    <div class=\"image-box\">\n",
    "                        <img src=\"{{ images.image2 }}\" alt=\"Image 2 Placeholder\">\n",
    "                    </div>\n",
    "                </section>\n",
    "        \n",
    "                <section class=\"stats\">\n",
    "                    <div class=\"stat-box\">\n",
    "                        <p>{{ stats.sessions }}</p>\n",
    "                        <span>Sessions</span>\n",
    "                    </div>\n",
    "                    <div class=\"stat-box\">\n",
    "                        <p>{{ stats.avg_session_duration }}</p>\n",
    "                        <span>Avg. Session Duration</span>\n",
    "                    </div>\n",
    "                    <div class=\"stat-box\">\n",
    "                        <p>{{ stats.new_sessions }}</p>\n",
    "                        <span>% New Sessions</span>\n",
    "                    </div>\n",
    "                    <div class=\"stat-box\">\n",
    "                        <p>{{ stats.bounce_rate }}</p>\n",
    "                        <span>Bounce Rate</span>\n",
    "                    </div>\n",
    "                    <div class=\"stat-box\">\n",
    "                        <p>{{ stats.goal_completions }}</p>\n",
    "                        <span>Goal Completions</span>\n",
    "                    </div>\n",
    "                    <div class=\"stat-box\">\n",
    "                        <p>{{ stats.pages_per_session }}</p>\n",
    "                        <span>Pages/Session</span>\n",
    "                    </div>\n",
    "                </section>\n",
    "            </div>\n",
    "        </body>\n",
    "    </html>\n",
    "    '''"
   ],
   "metadata": {
    "collapsed": false,
    "ExecuteTime": {
     "end_time": "2024-10-07T07:12:37.866268Z",
     "start_time": "2024-10-07T07:12:37.859281Z"
    }
   },
   "id": "2983b03d4e8fc489",
   "execution_count": 2
  },
  {
   "cell_type": "code",
   "execution_count": 3,
   "id": "initial_id",
   "metadata": {
    "collapsed": true,
    "ExecuteTime": {
     "end_time": "2024-10-07T07:12:38.098060Z",
     "start_time": "2024-10-07T07:12:38.080826Z"
    }
   },
   "outputs": [],
   "source": [
    "# 3. Write the html string as an HTML file\n",
    "with open('output_dir/html_report.html', 'w') as f:\n",
    "    f.write(html)"
   ]
  },
  {
   "cell_type": "markdown",
   "source": [
    "# HTML with template using pdfkit"
   ],
   "metadata": {
    "collapsed": false
   },
   "id": "73f57a4d92fefe1d"
  },
  {
   "cell_type": "code",
   "outputs": [],
   "source": [
    "# 1. Create a template file as report_template.html\n",
    "from jinja2 import Environment, FileSystemLoader\n",
    "\n",
    "# 2. Create a template Environment\n",
    "env = Environment(loader=FileSystemLoader('input_dir'))\n",
    "\n",
    "# 3. Load the template from the Environment\n",
    "template = env.get_template('index.html')\n",
    "\n",
    "# 4. Render the template with variables\n",
    "html = template.render(title = \"Control Union Report\",\n",
    "message = {\n",
    "        \"greeting\": \"Hi Jane\",\n",
    "        \"content_1\": \"Your web redesign is finished and we're tracking results through this web analytics report. Early signs are good and everything seems to be on pace.\",\n",
    "        \"content_2\": \"We're also going to be launching a few new landing pages next month. These will be used for SEO and PPC purposes.\"\n",
    "},\n",
    "images = {\n",
    "        \"image1\": \"https://storage.googleapis.com/corpeng-pulse-assets/uploads/2022/11/2image5-1536x783.jpg\",\n",
    "        \"image2\": \"https://storage.googleapis.com/corpeng-pulse-assets/uploads/2022/11/2image2-1536x719.jpg\"\n",
    "},\n",
    "stats = {\n",
    "        \"sessions\": \"10,487\",\n",
    "        \"avg_session_duration\": \"00:00:26\",\n",
    "        \"new_sessions\": \"13.09%\",\n",
    "        \"bounce_rate\": \"35.00%\",\n",
    "        \"goal_completions\": \"3,145\",\n",
    "        \"pages_per_session\": \"3.49\"\n",
    "})\n",
    "\n"
   ],
   "metadata": {
    "collapsed": false,
    "ExecuteTime": {
     "end_time": "2024-10-07T07:12:55.342982Z",
     "start_time": "2024-10-07T07:12:55.321027Z"
    }
   },
   "id": "92fcae44e2ef122e",
   "execution_count": 5
  },
  {
   "cell_type": "code",
   "outputs": [],
   "source": [
    "# 5. Write the template to an HTML file\n",
    "with open('input_dir/html_report_jinja.html', 'w') as f:\n",
    "    f.write(html)"
   ],
   "metadata": {
    "collapsed": false,
    "ExecuteTime": {
     "end_time": "2024-10-07T07:12:56.182166Z",
     "start_time": "2024-10-07T07:12:56.166512Z"
    }
   },
   "id": "9a8ad265b5cdb72b",
   "execution_count": 6
  },
  {
   "cell_type": "code",
   "outputs": [],
   "source": [
    "import pdfkit\n",
    "config = pdfkit.configuration(wkhtmltopdf=\"C:/Program Files/wkhtmltopdf/bin/wkhtmltopdf.exe\")\n",
    "options = {\n",
    "        'page-size': 'A4',\n",
    "        'orientation': 'Landscape',\n",
    "        'enable-local-file-access': None,  # Allow local file access\n",
    "        'margin-top': '10mm',\n",
    "        'margin-right': '10mm',\n",
    "        'margin-bottom': '10mm',\n",
    "        'margin-left': '10mm'\n",
    "}"
   ],
   "metadata": {
    "collapsed": false,
    "ExecuteTime": {
     "end_time": "2024-10-07T07:12:56.601336Z",
     "start_time": "2024-10-07T07:12:56.525022Z"
    }
   },
   "id": "60452c1a084508ef",
   "execution_count": 7
  },
  {
   "cell_type": "code",
   "outputs": [],
   "source": [
    "# 5. Generate PDF using pdfkit and external CSS\n",
    "try:\n",
    "        pdfkit.from_file('input_dir/html_report_jinja.html', 'output_dir/pdfkit_report.pdf', css='input_dir/index.css', configuration=config)\n",
    "except Exception as e:\n",
    "        print(e)"
   ],
   "metadata": {
    "collapsed": false,
    "ExecuteTime": {
     "end_time": "2024-10-07T07:12:59.322314Z",
     "start_time": "2024-10-07T07:12:57.270605Z"
    }
   },
   "id": "cec021e8f5f43d19",
   "execution_count": 8
  },
  {
   "cell_type": "markdown",
   "source": [
    "# HTML to pdf using Weasyprint"
   ],
   "metadata": {
    "collapsed": false
   },
   "id": "dd77c0a0ecf1b0ef"
  },
  {
   "cell_type": "code",
   "outputs": [],
   "source": [
    "#from weasyprint import HTML, CSS\n",
    "# css = CSS(string='''\n",
    "#     @page {size: A4; margin: 1cm;} \n",
    "#     th, td {border: 1px solid black;}\n",
    "#     ''')\n",
    "#css = CSS('input_dir/index.css')\n",
    "#HTML('input_dir/html_report_jinja.html').write_pdf('output_dir/weasyprint_pdf_report.pdf', stylesheets=[css])"
   ],
   "metadata": {
    "collapsed": false,
    "ExecuteTime": {
     "end_time": "2024-10-07T07:12:59.838528Z",
     "start_time": "2024-10-07T07:12:59.826272Z"
    }
   },
   "id": "3bafd8c3cdbbcdf2",
   "execution_count": 9
  },
  {
   "cell_type": "code",
   "outputs": [],
   "source": [],
   "metadata": {
    "collapsed": false
   },
   "id": "ac87264e8b31eed4"
  }
 ],
 "metadata": {
  "kernelspec": {
   "display_name": "Python 3",
   "language": "python",
   "name": "python3"
  },
  "language_info": {
   "codemirror_mode": {
    "name": "ipython",
    "version": 2
   },
   "file_extension": ".py",
   "mimetype": "text/x-python",
   "name": "python",
   "nbconvert_exporter": "python",
   "pygments_lexer": "ipython2",
   "version": "2.7.6"
  }
 },
 "nbformat": 4,
 "nbformat_minor": 5
}
